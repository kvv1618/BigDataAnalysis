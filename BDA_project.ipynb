{
  "nbformat": 4,
  "nbformat_minor": 0,
  "metadata": {
    "colab": {
      "provenance": []
    },
    "kernelspec": {
      "name": "python3",
      "display_name": "Python 3"
    },
    "language_info": {
      "name": "python"
    }
  },
  "cells": [
    {
      "cell_type": "code",
      "source": [
        "!pip install pyspark"
      ],
      "metadata": {
        "colab": {
          "base_uri": "https://localhost:8080/"
        },
        "id": "Vzh3k5L2QjeV",
        "outputId": "d7ee4cd1-e66d-4e0a-fc38-2f092f05e6a7"
      },
      "execution_count": 1,
      "outputs": [
        {
          "output_type": "stream",
          "name": "stdout",
          "text": [
            "Looking in indexes: https://pypi.org/simple, https://us-python.pkg.dev/colab-wheels/public/simple/\n",
            "Requirement already satisfied: pyspark in /usr/local/lib/python3.8/dist-packages (3.3.1)\n",
            "Requirement already satisfied: py4j==0.10.9.5 in /usr/local/lib/python3.8/dist-packages (from pyspark) (0.10.9.5)\n"
          ]
        }
      ]
    },
    {
      "cell_type": "code",
      "execution_count": 2,
      "metadata": {
        "id": "lBbOj0wSQUor"
      },
      "outputs": [],
      "source": [
        "import pyspark\n",
        "from pyspark.sql import SparkSession\n",
        "spark = SparkSession.builder.getOrCreate()"
      ]
    },
    {
      "cell_type": "code",
      "source": [
        "from pyspark.ml.feature import HashingTF, Tokenizer, IDF, StopWordsRemover, RegexTokenizer, Bucketizer, StringIndexer, OneHotEncoder, VectorAssembler, ChiSqSelector\n",
        "from pyspark.sql import SparkSession\n",
        "from pyspark.sql.functions import *\n",
        "from pyspark.ml import Pipeline\n",
        "from pyspark.ml.classification import LinearSVC, LogisticRegression, NaiveBayes, OneVsRest, MultilayerPerceptronClassifier, RandomForestClassifier\n",
        "from pyspark.ml.evaluation import MulticlassClassificationEvaluator\n",
        "from pyspark.sql import functions as F\n",
        "from pyspark.ml.tuning import CrossValidator, ParamGridBuilder\n",
        "from pyspark.ml.feature import Word2Vec\n",
        "from pyspark.ml.feature import NGram"
      ],
      "metadata": {
        "id": "gX3mNB6zRKq3"
      },
      "execution_count": 3,
      "outputs": []
    },
    {
      "cell_type": "markdown",
      "source": [
        "**Data extraction**"
      ],
      "metadata": {
        "id": "DIsL8DwJSb4z"
      }
    },
    {
      "cell_type": "code",
      "source": [
        "df = spark.read.format(\"csv\").option(\"header\",\"true\").option(\"inferSchema\",\"true\").load(path=\"wine1.csv\")"
      ],
      "metadata": {
        "id": "uM-XMpeGRuuM"
      },
      "execution_count": 4,
      "outputs": []
    },
    {
      "cell_type": "code",
      "source": [
        "(df).show()"
      ],
      "metadata": {
        "colab": {
          "base_uri": "https://localhost:8080/"
        },
        "id": "yTHjixLvSV8H",
        "outputId": "ea92e056-19a7-476b-d799-ba4cb9866edd"
      },
      "execution_count": 5,
      "outputs": [
        {
          "output_type": "stream",
          "name": "stdout",
          "text": [
            "+---+---------+--------------------+--------------------+------+-----+-----------------+-------------------+-----------------+------------------+---------------------+--------------------+------------------+-------------------+\n",
            "|_c0|  country|         description|         designation|points|price|         province|           region_1|         region_2|       taster_name|taster_twitter_handle|               title|           variety|             winery|\n",
            "+---+---------+--------------------+--------------------+------+-----+-----------------+-------------------+-----------------+------------------+---------------------+--------------------+------------------+-------------------+\n",
            "|  0|    Italy|Aromas include tr...|        Vulkà Bianco|    87| null|Sicily & Sardinia|               Etna|             null|     Kerin O’Keefe|         @kerinokeefe|Nicosia 2013 Vulk...|       White Blend|            Nicosia|\n",
            "|  1| Portugal|This is ripe and ...|            Avidagos|    87| 15.0|            Douro|               null|             null|        Roger Voss|           @vossroger|Quinta dos Avidag...|    Portuguese Red|Quinta dos Avidagos|\n",
            "|  2|       US|Tart and snappy, ...|                null|    87| 14.0|           Oregon|  Willamette Valley|Willamette Valley|      Paul Gregutt|          @paulgwine |Rainstorm 2013 Pi...|        Pinot Gris|          Rainstorm|\n",
            "|  3|       US|Pineapple rind, l...|Reserve Late Harvest|    87| 13.0|         Michigan|Lake Michigan Shore|             null|Alexander Peartree|                 null|St. Julian 2013 R...|          Riesling|         St. Julian|\n",
            "|  4|       US|Much like the reg...|Vintner's Reserve...|    87| 65.0|           Oregon|  Willamette Valley|Willamette Valley|      Paul Gregutt|          @paulgwine |Sweet Cheeks 2012...|        Pinot Noir|       Sweet Cheeks|\n",
            "|  5|    Spain|Blackberry and ra...|        Ars In Vitro|    87| 15.0|   Northern Spain|            Navarra|             null| Michael Schachner|          @wineschach|Tandem 2011 Ars I...|Tempranillo-Merlot|             Tandem|\n",
            "|  6|    Italy|Here's a bright, ...|             Belsito|    87| 16.0|Sicily & Sardinia|           Vittoria|             null|     Kerin O’Keefe|         @kerinokeefe|Terre di Giurfo 2...|          Frappato|    Terre di Giurfo|\n",
            "|  7|   France|This dry and rest...|                null|    87| 24.0|           Alsace|             Alsace|             null|        Roger Voss|           @vossroger|Trimbach 2012 Gew...|    Gewürztraminer|           Trimbach|\n",
            "|  8|  Germany|Savory dried thym...|               Shine|    87| 12.0|      Rheinhessen|               null|             null|Anna Lee C. Iijima|                 null|Heinz Eifel 2013 ...|    Gewürztraminer|        Heinz Eifel|\n",
            "|  9|   France|This has great de...|         Les Natures|    87| 27.0|           Alsace|             Alsace|             null|        Roger Voss|           @vossroger|Jean-Baptiste Ada...|        Pinot Gris| Jean-Baptiste Adam|\n",
            "| 10|       US|Soft, supple plum...|      Mountain Cuvée|    87| 19.0|       California|        Napa Valley|             Napa|    Virginie Boone|              @vboone|Kirkland Signatur...|Cabernet Sauvignon| Kirkland Signature|\n",
            "| 11|   France|This is a dry win...|                null|    87| 30.0|           Alsace|             Alsace|             null|        Roger Voss|           @vossroger|Leon Beyer 2012 G...|    Gewürztraminer|         Leon Beyer|\n",
            "| 12|       US|Slightly reduced,...|                null|    87| 34.0|       California|   Alexander Valley|           Sonoma|    Virginie Boone|              @vboone|Louis M. Martini ...|Cabernet Sauvignon|   Louis M. Martini|\n",
            "| 13|    Italy|This is dominated...|               Rosso|    87| null|Sicily & Sardinia|               Etna|             null|     Kerin O’Keefe|         @kerinokeefe|Masseria Settepor...| Nerello Mascalese|Masseria Setteporte|\n",
            "| 14|       US|Building on 150 y...|                null|    87| 12.0|       California|      Central Coast|    Central Coast|     Matt Kettmann|        @mattkettmann|Mirassou 2012 Cha...|        Chardonnay|           Mirassou|\n",
            "| 15|  Germany|Zesty orange peel...|               Devon|    87| 24.0|            Mosel|               null|             null|Anna Lee C. Iijima|                 null|Richard Böcking 2...|          Riesling|    Richard Böcking|\n",
            "| 16|Argentina|Baked plum, molas...|               Felix|    87| 30.0|            Other|           Cafayate|             null| Michael Schachner|          @wineschach|Felix Lavaque 201...|            Malbec|      Felix Lavaque|\n",
            "| 17|Argentina|Raw black-cherry ...| Winemaker Selection|    87| 13.0| Mendoza Province|            Mendoza|             null| Michael Schachner|          @wineschach|Gaucho Andino 201...|            Malbec|      Gaucho Andino|\n",
            "| 18|    Spain|Desiccated blackb...|Vendimia Seleccio...|    87| 28.0|   Northern Spain|   Ribera del Duero|             null| Michael Schachner|          @wineschach|Pradorey 2010 Ven...| Tempranillo Blend|           Pradorey|\n",
            "| 19|       US|Red fruit aromas ...|                null|    87| 32.0|         Virginia|           Virginia|             null|Alexander Peartree|                 null|Quiévremont 2012 ...|          Meritage|        Quiévremont|\n",
            "+---+---------+--------------------+--------------------+------+-----+-----------------+-------------------+-----------------+------------------+---------------------+--------------------+------------------+-------------------+\n",
            "only showing top 20 rows\n",
            "\n"
          ]
        }
      ]
    },
    {
      "cell_type": "markdown",
      "source": [
        "**Data preprocessing**"
      ],
      "metadata": {
        "id": "77G03Wg8ShA7"
      }
    },
    {
      "cell_type": "code",
      "source": [
        "df_clean_null = df.dropna(subset=('description','price', 'points', 'country')).select('*')\n",
        "df_clean_null = df_clean_null.selectExpr(\"_c0\",\"description as description\",'price as price','points as points','country as country','taster_name as taster_name', 'variety as variety')"
      ],
      "metadata": {
        "id": "FahNZp8nSZCs"
      },
      "execution_count": 6,
      "outputs": []
    },
    {
      "cell_type": "code",
      "source": [
        "print(df.count(), df_clean_null.count())"
      ],
      "metadata": {
        "colab": {
          "base_uri": "https://localhost:8080/"
        },
        "id": "ZFKC3vnFSx0r",
        "outputId": "054e9cc0-5af7-4bd5-ff58-8609106e0bff"
      },
      "execution_count": 7,
      "outputs": [
        {
          "output_type": "stream",
          "name": "stdout",
          "text": [
            "129975 120911\n"
          ]
        }
      ]
    },
    {
      "cell_type": "code",
      "source": [
        "(df_clean_null).show()"
      ],
      "metadata": {
        "colab": {
          "base_uri": "https://localhost:8080/"
        },
        "id": "xdNeZnrnS0d2",
        "outputId": "93a7bc91-60af-41d9-ed6f-8f93b4969e0f"
      },
      "execution_count": 8,
      "outputs": [
        {
          "output_type": "stream",
          "name": "stdout",
          "text": [
            "+---+--------------------+-----+------+---------+------------------+------------------+\n",
            "|_c0|         description|price|points|  country|       taster_name|           variety|\n",
            "+---+--------------------+-----+------+---------+------------------+------------------+\n",
            "|  1|This is ripe and ...| 15.0|    87| Portugal|        Roger Voss|    Portuguese Red|\n",
            "|  2|Tart and snappy, ...| 14.0|    87|       US|      Paul Gregutt|        Pinot Gris|\n",
            "|  3|Pineapple rind, l...| 13.0|    87|       US|Alexander Peartree|          Riesling|\n",
            "|  4|Much like the reg...| 65.0|    87|       US|      Paul Gregutt|        Pinot Noir|\n",
            "|  5|Blackberry and ra...| 15.0|    87|    Spain| Michael Schachner|Tempranillo-Merlot|\n",
            "|  6|Here's a bright, ...| 16.0|    87|    Italy|     Kerin O’Keefe|          Frappato|\n",
            "|  7|This dry and rest...| 24.0|    87|   France|        Roger Voss|    Gewürztraminer|\n",
            "|  8|Savory dried thym...| 12.0|    87|  Germany|Anna Lee C. Iijima|    Gewürztraminer|\n",
            "|  9|This has great de...| 27.0|    87|   France|        Roger Voss|        Pinot Gris|\n",
            "| 10|Soft, supple plum...| 19.0|    87|       US|    Virginie Boone|Cabernet Sauvignon|\n",
            "| 11|This is a dry win...| 30.0|    87|   France|        Roger Voss|    Gewürztraminer|\n",
            "| 12|Slightly reduced,...| 34.0|    87|       US|    Virginie Boone|Cabernet Sauvignon|\n",
            "| 14|Building on 150 y...| 12.0|    87|       US|     Matt Kettmann|        Chardonnay|\n",
            "| 15|Zesty orange peel...| 24.0|    87|  Germany|Anna Lee C. Iijima|          Riesling|\n",
            "| 16|Baked plum, molas...| 30.0|    87|Argentina| Michael Schachner|            Malbec|\n",
            "| 17|Raw black-cherry ...| 13.0|    87|Argentina| Michael Schachner|            Malbec|\n",
            "| 18|Desiccated blackb...| 28.0|    87|    Spain| Michael Schachner| Tempranillo Blend|\n",
            "| 19|Red fruit aromas ...| 32.0|    87|       US|Alexander Peartree|          Meritage|\n",
            "| 20|Ripe aromas of da...| 23.0|    87|       US|Alexander Peartree|         Red Blend|\n",
            "| 21|A sleek mix of ta...| 20.0|    87|       US|      Paul Gregutt|        Pinot Noir|\n",
            "+---+--------------------+-----+------+---------+------------------+------------------+\n",
            "only showing top 20 rows\n",
            "\n"
          ]
        }
      ]
    },
    {
      "cell_type": "code",
      "source": [
        "df_lower = df_clean_null.select('_c0','price', 'points', 'country', 'taster_name', 'variety', lower(df_clean_null['description']).alias('description'))\n",
        "(df_lower).show()"
      ],
      "metadata": {
        "colab": {
          "base_uri": "https://localhost:8080/"
        },
        "id": "Otjbq-BSS3jd",
        "outputId": "cfdfcb05-15c5-4d79-9d61-d24a7b4d2af3"
      },
      "execution_count": 9,
      "outputs": [
        {
          "output_type": "stream",
          "name": "stdout",
          "text": [
            "+---+-----+------+---------+------------------+------------------+--------------------+\n",
            "|_c0|price|points|  country|       taster_name|           variety|         description|\n",
            "+---+-----+------+---------+------------------+------------------+--------------------+\n",
            "|  1| 15.0|    87| Portugal|        Roger Voss|    Portuguese Red|this is ripe and ...|\n",
            "|  2| 14.0|    87|       US|      Paul Gregutt|        Pinot Gris|tart and snappy, ...|\n",
            "|  3| 13.0|    87|       US|Alexander Peartree|          Riesling|pineapple rind, l...|\n",
            "|  4| 65.0|    87|       US|      Paul Gregutt|        Pinot Noir|much like the reg...|\n",
            "|  5| 15.0|    87|    Spain| Michael Schachner|Tempranillo-Merlot|blackberry and ra...|\n",
            "|  6| 16.0|    87|    Italy|     Kerin O’Keefe|          Frappato|here's a bright, ...|\n",
            "|  7| 24.0|    87|   France|        Roger Voss|    Gewürztraminer|this dry and rest...|\n",
            "|  8| 12.0|    87|  Germany|Anna Lee C. Iijima|    Gewürztraminer|savory dried thym...|\n",
            "|  9| 27.0|    87|   France|        Roger Voss|        Pinot Gris|this has great de...|\n",
            "| 10| 19.0|    87|       US|    Virginie Boone|Cabernet Sauvignon|soft, supple plum...|\n",
            "| 11| 30.0|    87|   France|        Roger Voss|    Gewürztraminer|this is a dry win...|\n",
            "| 12| 34.0|    87|       US|    Virginie Boone|Cabernet Sauvignon|slightly reduced,...|\n",
            "| 14| 12.0|    87|       US|     Matt Kettmann|        Chardonnay|building on 150 y...|\n",
            "| 15| 24.0|    87|  Germany|Anna Lee C. Iijima|          Riesling|zesty orange peel...|\n",
            "| 16| 30.0|    87|Argentina| Michael Schachner|            Malbec|baked plum, molas...|\n",
            "| 17| 13.0|    87|Argentina| Michael Schachner|            Malbec|raw black-cherry ...|\n",
            "| 18| 28.0|    87|    Spain| Michael Schachner| Tempranillo Blend|desiccated blackb...|\n",
            "| 19| 32.0|    87|       US|Alexander Peartree|          Meritage|red fruit aromas ...|\n",
            "| 20| 23.0|    87|       US|Alexander Peartree|         Red Blend|ripe aromas of da...|\n",
            "| 21| 20.0|    87|       US|      Paul Gregutt|        Pinot Noir|a sleek mix of ta...|\n",
            "+---+-----+------+---------+------------------+------------------+--------------------+\n",
            "only showing top 20 rows\n",
            "\n"
          ]
        }
      ]
    },
    {
      "cell_type": "code",
      "source": [
        "df_lower = df_lower.withColumn(\"points\",col(\"points\").cast(\"int\"))\n",
        "(df_lower.groupBy(\"country\").avg(\"points\").orderBy(F.desc(\"avg(points)\")).take(20))"
      ],
      "metadata": {
        "colab": {
          "base_uri": "https://localhost:8080/"
        },
        "id": "5nbgKHSvYQz5",
        "outputId": "77e03721-2873-4e08-b2ad-82485ad9bf35"
      },
      "execution_count": 10,
      "outputs": [
        {
          "output_type": "execute_result",
          "data": {
            "text/plain": [
              "[Row(country='England', avg(points)=91.55072463768116),\n",
              " Row(country='India', avg(points)=90.22222222222223),\n",
              " Row(country='Austria', avg(points)=90.19062947067239),\n",
              " Row(country='Germany', avg(points)=89.83632075471698),\n",
              " Row(country='Canada', avg(points)=89.37795275590551),\n",
              " Row(country='Hungary', avg(points)=89.1655172413793),\n",
              " Row(country='China', avg(points)=89.0),\n",
              " Row(country='France', avg(points)=88.73496483825598),\n",
              " Row(country='Luxembourg', avg(points)=88.66666666666667),\n",
              " Row(country='Italy', avg(points)=88.61780011827321),\n",
              " Row(country='Australia', avg(points)=88.59546643417612),\n",
              " Row(country='Morocco', avg(points)=88.57142857142857),\n",
              " Row(country='Switzerland', avg(points)=88.57142857142857),\n",
              " Row(country='US', avg(points)=88.56634656148047),\n",
              " Row(country='Israel', avg(points)=88.49693251533742),\n",
              " Row(country='Portugal', avg(points)=88.31671794871795),\n",
              " Row(country='New Zealand', avg(points)=88.30589949016752),\n",
              " Row(country='Turkey', avg(points)=88.08888888888889),\n",
              " Row(country='Slovenia', avg(points)=88.0125),\n",
              " Row(country='Bulgaria', avg(points)=87.93617021276596)]"
            ]
          },
          "metadata": {},
          "execution_count": 10
        }
      ]
    },
    {
      "cell_type": "code",
      "source": [
        "df_lower = df_lower.withColumn('country_format',\n",
        "                                                  F.when(F.col('country') == 'Argentina', 'ARG')\\\n",
        "                                                  .when(F.col('country') == 'Armenia', 'ARM')\\\n",
        "                                                  .when(F.col('country') == 'Australia', 'AUS')\\\n",
        "                                                  .when(F.col('country') == 'Austria', 'AUT')\\\n",
        "                                                  .when(F.col('country') == 'Bosnia and Herzegovina', 'BIH')\\\n",
        "                                                  .when(F.col('country') == 'Brazil', 'BRA')\\\n",
        "                                                  .when(F.col('country') == 'Bulgaria', 'BGR')\\\n",
        "                                                  .when(F.col('country') == 'Canada', 'CAN')\\\n",
        "                                                  .when(F.col('country') == 'Chile', 'CHL')\\\n",
        "                                                  .when(F.col('country') == 'China', 'CHN')\\\n",
        "                                                  .when(F.col('country') == 'Croatia', 'HRV')\\\n",
        "                                                  .when(F.col('country') == 'Cyprus', 'CYP')\\\n",
        "                                                  .when(F.col('country') == 'Czech Republic', 'CZE')\\\n",
        "                                                  .when(F.col('country') == 'Egypt', 'EGY')\\\n",
        "                                                  .when(F.col('country') == 'England', 'GBR')\\\n",
        "                                                  .when(F.col('country') == 'France', 'FRA')\\\n",
        "                                                  .when(F.col('country') == 'Georgia', 'GEO')\\\n",
        "                                                  .when(F.col('country') == 'Germany', 'DEU')\\\n",
        "                                                  .when(F.col('country') == 'Greece', 'GRC')\\\n",
        "                                                  .when(F.col('country') == 'Hungary', 'HUN')\\\n",
        "                                                  .when(F.col('country') == 'India', 'IND')\\\n",
        "                                                  .when(F.col('country') == 'Israel', 'ISR')\\\n",
        "                                                  .when(F.col('country') == 'Italy', 'ITA')\\\n",
        "                                                  .when(F.col('country') == 'Lebanon', 'LBN')\\\n",
        "                                                  .when(F.col('country') == 'Luxembourg', 'LUX')\\\n",
        "                                                  .when(F.col('country') == 'Macedonia', 'MKD')\\\n",
        "                                                  .when(F.col('country') == 'Mexico', 'MEX')\\\n",
        "                                                  .when(F.col('country') == 'Moldova', 'MDA')\\\n",
        "                                                  .when(F.col('country') == 'Morocco', 'MAR')\\\n",
        "                                                  .when(F.col('country') == 'New Zealand', 'NZL')\\\n",
        "                                                  .when(F.col('country') == 'Peru', 'PER')\\\n",
        "                                                  .when(F.col('country') == 'Portugal', 'PRT')\\\n",
        "                                                  .when(F.col('country') == 'Romania', 'ROU')\\\n",
        "                                                  .when(F.col('country') == 'Serbia', 'SRB')\\\n",
        "                                                  .when(F.col('country') == 'Slovakia', 'SVK')\\\n",
        "                                                  .when(F.col('country') == 'Slovenia', 'SVN')\\\n",
        "                                                  .when(F.col('country') == 'South Africa', 'ZAF')\\\n",
        "                                                  .when(F.col('country') == 'Spain', 'ESP')\\\n",
        "                                                  .when(F.col('country') == 'Switzerland', 'CHE')\\\n",
        "                                                  .when(F.col('country') == 'Turkey', 'TUR')\\\n",
        "                                                  .when(F.col('country') == 'US', 'USA')\\\n",
        "                                                  .when(F.col('country') == 'Ukraine', 'UKR')\\\n",
        "                                                  .when(F.col('country') == 'Uruguay', 'URY')\\\n",
        "                                                  .otherwise('') \n",
        "                                                  )\n"
      ],
      "metadata": {
        "id": "IwOxJgyWS7Ko"
      },
      "execution_count": 11,
      "outputs": []
    },
    {
      "cell_type": "code",
      "source": [
        "(df_lower.groupBy(\"country_format\").count()).show()"
      ],
      "metadata": {
        "colab": {
          "base_uri": "https://localhost:8080/"
        },
        "id": "wzX0VQeGTVXZ",
        "outputId": "474a2807-811f-48a5-86c3-21aaa8482084"
      },
      "execution_count": 12,
      "outputs": [
        {
          "output_type": "stream",
          "name": "stdout",
          "text": [
            "+--------------+-----+\n",
            "|country_format|count|\n",
            "+--------------+-----+\n",
            "|           BRA|   47|\n",
            "|           ARM|    2|\n",
            "|           FRA|17776|\n",
            "|           URY|  109|\n",
            "|           ITA|16911|\n",
            "|           UKR|   14|\n",
            "|           HRV|   71|\n",
            "|           GBR|   69|\n",
            "|           AUS| 2294|\n",
            "|           MEX|   70|\n",
            "|           SVK|    1|\n",
            "|           HUN|  145|\n",
            "|           NZL| 1376|\n",
            "|           BIH|    2|\n",
            "|           PER|   16|\n",
            "|           LUX|    6|\n",
            "|           TUR|   90|\n",
            "|           AUT| 2799|\n",
            "|           USA|54264|\n",
            "|           MAR|   28|\n",
            "+--------------+-----+\n",
            "only showing top 20 rows\n",
            "\n"
          ]
        }
      ]
    },
    {
      "cell_type": "code",
      "source": [
        "(df_lower.groupBy(\"country_format\").avg(\"points\")).show()"
      ],
      "metadata": {
        "colab": {
          "base_uri": "https://localhost:8080/"
        },
        "id": "Rd9xaIv5YjsT",
        "outputId": "d3a2280f-c9fd-4e8a-abc1-3b3d555a452b"
      },
      "execution_count": 13,
      "outputs": [
        {
          "output_type": "stream",
          "name": "stdout",
          "text": [
            "+--------------+-----------------+\n",
            "|country_format|      avg(points)|\n",
            "+--------------+-----------------+\n",
            "|           BRA|84.65957446808511|\n",
            "|           ARM|             87.5|\n",
            "|           FRA|88.73496483825598|\n",
            "|           URY|86.75229357798165|\n",
            "|           ITA|88.61780011827321|\n",
            "|           UKR|84.07142857142857|\n",
            "|           HRV|87.35211267605634|\n",
            "|           GBR|91.55072463768116|\n",
            "|           AUS|88.59546643417612|\n",
            "|           MEX|85.25714285714285|\n",
            "|           SVK|             87.0|\n",
            "|           HUN| 89.1655172413793|\n",
            "|           NZL|88.30589949016752|\n",
            "|           BIH|             86.5|\n",
            "|           PER|          83.5625|\n",
            "|           LUX|88.66666666666667|\n",
            "|           TUR|88.08888888888889|\n",
            "|           AUT|90.19062947067239|\n",
            "|           USA|88.56634656148047|\n",
            "|           MAR|88.57142857142857|\n",
            "+--------------+-----------------+\n",
            "only showing top 20 rows\n",
            "\n"
          ]
        }
      ]
    },
    {
      "cell_type": "code",
      "source": [
        "(df_lower.groupBy(\"variety\").count().orderBy('count', ascending = False)).show()"
      ],
      "metadata": {
        "colab": {
          "base_uri": "https://localhost:8080/"
        },
        "id": "y8mL-tpGTYOS",
        "outputId": "0b3f0ae8-c229-43af-d02c-6c6459bcd90d"
      },
      "execution_count": 14,
      "outputs": [
        {
          "output_type": "stream",
          "name": "stdout",
          "text": [
            "+--------------------+-----+\n",
            "|             variety|count|\n",
            "+--------------------+-----+\n",
            "|          Pinot Noir|12784|\n",
            "|          Chardonnay|11076|\n",
            "|  Cabernet Sauvignon| 9379|\n",
            "|           Red Blend| 8466|\n",
            "|Bordeaux-style Re...| 5339|\n",
            "|            Riesling| 4966|\n",
            "|     Sauvignon Blanc| 4778|\n",
            "|               Syrah| 4086|\n",
            "|                Rosé| 3260|\n",
            "|              Merlot| 3061|\n",
            "|           Zinfandel| 2708|\n",
            "|              Malbec| 2593|\n",
            "|          Sangiovese| 2377|\n",
            "|            Nebbiolo| 2330|\n",
            "|      Portuguese Red| 2196|\n",
            "|         White Blend| 2167|\n",
            "|     Sparkling Blend| 2027|\n",
            "|         Tempranillo| 1788|\n",
            "|Rhône-style Red B...| 1404|\n",
            "|          Pinot Gris| 1388|\n",
            "+--------------------+-----+\n",
            "only showing top 20 rows\n",
            "\n"
          ]
        }
      ]
    },
    {
      "cell_type": "markdown",
      "source": [
        "**Feature extraction**"
      ],
      "metadata": {
        "id": "qcL5ojz5TcZt"
      }
    },
    {
      "cell_type": "code",
      "source": [
        "# regular expression tokenizer, remove punctuations \n",
        "regexTokenizer = RegexTokenizer(inputCol=\"description\", outputCol=\"words\", pattern=\"\\\\W\")\n",
        "wordsData = regexTokenizer.transform(df_lower)\n",
        "regexTokenizer.transform(df_lower).show()"
      ],
      "metadata": {
        "colab": {
          "base_uri": "https://localhost:8080/"
        },
        "id": "xm-gxhq2TbCq",
        "outputId": "84f5e13d-0dac-4482-f167-13013b6dbfac"
      },
      "execution_count": 15,
      "outputs": [
        {
          "output_type": "stream",
          "name": "stdout",
          "text": [
            "+---+-----+------+---------+------------------+------------------+--------------------+--------------+--------------------+\n",
            "|_c0|price|points|  country|       taster_name|           variety|         description|country_format|               words|\n",
            "+---+-----+------+---------+------------------+------------------+--------------------+--------------+--------------------+\n",
            "|  1| 15.0|    87| Portugal|        Roger Voss|    Portuguese Red|this is ripe and ...|           PRT|[this, is, ripe, ...|\n",
            "|  2| 14.0|    87|       US|      Paul Gregutt|        Pinot Gris|tart and snappy, ...|           USA|[tart, and, snapp...|\n",
            "|  3| 13.0|    87|       US|Alexander Peartree|          Riesling|pineapple rind, l...|           USA|[pineapple, rind,...|\n",
            "|  4| 65.0|    87|       US|      Paul Gregutt|        Pinot Noir|much like the reg...|           USA|[much, like, the,...|\n",
            "|  5| 15.0|    87|    Spain| Michael Schachner|Tempranillo-Merlot|blackberry and ra...|           ESP|[blackberry, and,...|\n",
            "|  6| 16.0|    87|    Italy|     Kerin O’Keefe|          Frappato|here's a bright, ...|           ITA|[here, s, a, brig...|\n",
            "|  7| 24.0|    87|   France|        Roger Voss|    Gewürztraminer|this dry and rest...|           FRA|[this, dry, and, ...|\n",
            "|  8| 12.0|    87|  Germany|Anna Lee C. Iijima|    Gewürztraminer|savory dried thym...|           DEU|[savory, dried, t...|\n",
            "|  9| 27.0|    87|   France|        Roger Voss|        Pinot Gris|this has great de...|           FRA|[this, has, great...|\n",
            "| 10| 19.0|    87|       US|    Virginie Boone|Cabernet Sauvignon|soft, supple plum...|           USA|[soft, supple, pl...|\n",
            "| 11| 30.0|    87|   France|        Roger Voss|    Gewürztraminer|this is a dry win...|           FRA|[this, is, a, dry...|\n",
            "| 12| 34.0|    87|       US|    Virginie Boone|Cabernet Sauvignon|slightly reduced,...|           USA|[slightly, reduce...|\n",
            "| 14| 12.0|    87|       US|     Matt Kettmann|        Chardonnay|building on 150 y...|           USA|[building, on, 15...|\n",
            "| 15| 24.0|    87|  Germany|Anna Lee C. Iijima|          Riesling|zesty orange peel...|           DEU|[zesty, orange, p...|\n",
            "| 16| 30.0|    87|Argentina| Michael Schachner|            Malbec|baked plum, molas...|           ARG|[baked, plum, mol...|\n",
            "| 17| 13.0|    87|Argentina| Michael Schachner|            Malbec|raw black-cherry ...|           ARG|[raw, black, cher...|\n",
            "| 18| 28.0|    87|    Spain| Michael Schachner| Tempranillo Blend|desiccated blackb...|           ESP|[desiccated, blac...|\n",
            "| 19| 32.0|    87|       US|Alexander Peartree|          Meritage|red fruit aromas ...|           USA|[red, fruit, arom...|\n",
            "| 20| 23.0|    87|       US|Alexander Peartree|         Red Blend|ripe aromas of da...|           USA|[ripe, aromas, of...|\n",
            "| 21| 20.0|    87|       US|      Paul Gregutt|        Pinot Noir|a sleek mix of ta...|           USA|[a, sleek, mix, o...|\n",
            "+---+-----+------+---------+------------------+------------------+--------------------+--------------+--------------------+\n",
            "only showing top 20 rows\n",
            "\n"
          ]
        }
      ]
    },
    {
      "cell_type": "code",
      "source": [
        "stopwordsRemover = StopWordsRemover(inputCol=\"words\", outputCol=\"filtered\")\n",
        "(stopwordsRemover.transform(wordsData)).show()"
      ],
      "metadata": {
        "colab": {
          "base_uri": "https://localhost:8080/"
        },
        "id": "_rgQNPIaT7VJ",
        "outputId": "451b78e5-46dc-4797-f395-cce46dbe85ac"
      },
      "execution_count": 16,
      "outputs": [
        {
          "output_type": "stream",
          "name": "stdout",
          "text": [
            "+---+-----+------+---------+------------------+------------------+--------------------+--------------+--------------------+--------------------+\n",
            "|_c0|price|points|  country|       taster_name|           variety|         description|country_format|               words|            filtered|\n",
            "+---+-----+------+---------+------------------+------------------+--------------------+--------------+--------------------+--------------------+\n",
            "|  1| 15.0|    87| Portugal|        Roger Voss|    Portuguese Red|this is ripe and ...|           PRT|[this, is, ripe, ...|[ripe, fruity, wi...|\n",
            "|  2| 14.0|    87|       US|      Paul Gregutt|        Pinot Gris|tart and snappy, ...|           USA|[tart, and, snapp...|[tart, snappy, fl...|\n",
            "|  3| 13.0|    87|       US|Alexander Peartree|          Riesling|pineapple rind, l...|           USA|[pineapple, rind,...|[pineapple, rind,...|\n",
            "|  4| 65.0|    87|       US|      Paul Gregutt|        Pinot Noir|much like the reg...|           USA|[much, like, the,...|[much, like, regu...|\n",
            "|  5| 15.0|    87|    Spain| Michael Schachner|Tempranillo-Merlot|blackberry and ra...|           ESP|[blackberry, and,...|[blackberry, rasp...|\n",
            "|  6| 16.0|    87|    Italy|     Kerin O’Keefe|          Frappato|here's a bright, ...|           ITA|[here, s, a, brig...|[bright, informal...|\n",
            "|  7| 24.0|    87|   France|        Roger Voss|    Gewürztraminer|this dry and rest...|           FRA|[this, dry, and, ...|[dry, restrained,...|\n",
            "|  8| 12.0|    87|  Germany|Anna Lee C. Iijima|    Gewürztraminer|savory dried thym...|           DEU|[savory, dried, t...|[savory, dried, t...|\n",
            "|  9| 27.0|    87|   France|        Roger Voss|        Pinot Gris|this has great de...|           FRA|[this, has, great...|[great, depth, fl...|\n",
            "| 10| 19.0|    87|       US|    Virginie Boone|Cabernet Sauvignon|soft, supple plum...|           USA|[soft, supple, pl...|[soft, supple, pl...|\n",
            "| 11| 30.0|    87|   France|        Roger Voss|    Gewürztraminer|this is a dry win...|           FRA|[this, is, a, dry...|[dry, wine, spicy...|\n",
            "| 12| 34.0|    87|       US|    Virginie Boone|Cabernet Sauvignon|slightly reduced,...|           USA|[slightly, reduce...|[slightly, reduce...|\n",
            "| 14| 12.0|    87|       US|     Matt Kettmann|        Chardonnay|building on 150 y...|           USA|[building, on, 15...|[building, 150, y...|\n",
            "| 15| 24.0|    87|  Germany|Anna Lee C. Iijima|          Riesling|zesty orange peel...|           DEU|[zesty, orange, p...|[zesty, orange, p...|\n",
            "| 16| 30.0|    87|Argentina| Michael Schachner|            Malbec|baked plum, molas...|           ARG|[baked, plum, mol...|[baked, plum, mol...|\n",
            "| 17| 13.0|    87|Argentina| Michael Schachner|            Malbec|raw black-cherry ...|           ARG|[raw, black, cher...|[raw, black, cher...|\n",
            "| 18| 28.0|    87|    Spain| Michael Schachner| Tempranillo Blend|desiccated blackb...|           ESP|[desiccated, blac...|[desiccated, blac...|\n",
            "| 19| 32.0|    87|       US|Alexander Peartree|          Meritage|red fruit aromas ...|           USA|[red, fruit, arom...|[red, fruit, arom...|\n",
            "| 20| 23.0|    87|       US|Alexander Peartree|         Red Blend|ripe aromas of da...|           USA|[ripe, aromas, of...|[ripe, aromas, da...|\n",
            "| 21| 20.0|    87|       US|      Paul Gregutt|        Pinot Noir|a sleek mix of ta...|           USA|[a, sleek, mix, o...|[sleek, mix, tart...|\n",
            "+---+-----+------+---------+------------------+------------------+--------------------+--------------+--------------------+--------------------+\n",
            "only showing top 20 rows\n",
            "\n"
          ]
        }
      ]
    },
    {
      "cell_type": "code",
      "source": [
        "#two hyper parameters needed to be tuned\n",
        "#hashingTF = HashingTF(inputCol=\"filtered\", outputCol=\"rawFeatures\",numFeatures=5000)\n",
        "hashingTF = HashingTF(inputCol=\"filtered\", outputCol=\"rawFeatures\", numFeatures=5000)\n",
        "idf = IDF(inputCol=\"rawFeatures\", outputCol=\"tf_idf_features\", minDocFreq=0)"
      ],
      "metadata": {
        "id": "XGp0denSVBv3"
      },
      "execution_count": 17,
      "outputs": []
    },
    {
      "cell_type": "code",
      "source": [
        "word2vec = Word2Vec(vectorSize = 300, minCount = 5, inputCol = 'filtered', outputCol = 'word2vec_features')"
      ],
      "metadata": {
        "id": "EkvD1I4wVFx5"
      },
      "execution_count": 18,
      "outputs": []
    },
    {
      "cell_type": "code",
      "source": [
        "stopWords_removed=stopwordsRemover.transform(wordsData)\n",
        "# Define NGram transformer\n",
        "ngram = NGram(n=2, inputCol=\"filtered\", outputCol=\"bigrams\")\n",
        "\n",
        "# Create bigram_df as a transform of unigram_df using NGram tranformer\n",
        "production_df = ngram.transform(stopWords_removed)\n",
        "production_df = production_df.where(size(col(\"bigrams\")) >= 2)\n",
        "word2vec_bigram = Word2Vec(vectorSize = 300, minCount = 5, inputCol = 'bigrams', outputCol = 'bigram_features')"
      ],
      "metadata": {
        "id": "fW2AIP43VH5E"
      },
      "execution_count": 19,
      "outputs": []
    },
    {
      "cell_type": "markdown",
      "source": [
        "Wine Enthusiast's 100-point wine-scoring scale:\n",
        "  - 98–100 – Classic\n",
        "  - 94–97 – Superb\n",
        "  - 90–93 – Excellent\n",
        "  - 87–89 – Very good\n",
        "  - 83–86 – Good\n",
        "  - 80–82 – Acceptable "
      ],
      "metadata": {
        "id": "cL0uAXW5VO-a"
      }
    },
    {
      "cell_type": "code",
      "source": [
        "splits_6 = [80,83, 87,90, 94,98,100]\n",
        "splits_3 = [80,87,94,100]\n",
        "bucketizer_3 = Bucketizer(splits=splits_3, inputCol=\"points\", outputCol=\"label\")\n",
        "bucketizer_6 = Bucketizer(splits=splits_6, inputCol=\"points\", outputCol=\"label_6\")"
      ],
      "metadata": {
        "id": "NDOdqzBJVKZT"
      },
      "execution_count": 20,
      "outputs": []
    },
    {
      "cell_type": "code",
      "source": [
        "cols = ['country', 'taster_name','variety']\n",
        "\n",
        "indexers = [\n",
        "    StringIndexer(inputCol=c, outputCol=\"{0}_indexed\".format(c), handleInvalid=\"keep\")\n",
        "    for c in cols\n",
        "]\n",
        "\n",
        "encoder = OneHotEncoder(\n",
        "    inputCols=[indexer.getOutputCol() for indexer in indexers],\n",
        "    outputCols=[\n",
        "        \"{0}_encoded\".format(indexer.getOutputCol()) for indexer in indexers]\n",
        ")\n",
        "\n",
        "# assemble all 4 columns (country, tastername, variety and price)\n",
        "assembler_num_cat = VectorAssembler(\n",
        "    inputCols=['country_indexed_encoded','taster_name_indexed_encoded','variety_indexed_encoded','price'],\n",
        "    outputCol=\"num_cat_features\"\n",
        ")\n",
        "\n",
        "assembler_combine = VectorAssembler(\n",
        "    inputCols=['num_cat_features', 'tf_idf_features'],\n",
        "    outputCol=\"combine_features\"\n",
        ")\n",
        "\n",
        "assembler_combine_w2v=VectorAssembler(\n",
        "    inputCols=['num_cat_features', 'word2vec_features'],\n",
        "    outputCol=\"combine_features_w2v\"\n",
        ")\n",
        "assembler_combine_bigram=VectorAssembler(\n",
        "    inputCols=['num_cat_features', 'bigram_features'],\n",
        "    outputCol=\"combine_features_bigram\"\n",
        ")"
      ],
      "metadata": {
        "id": "MWrb_AfHVVYm"
      },
      "execution_count": 21,
      "outputs": []
    },
    {
      "cell_type": "code",
      "source": [
        "chi_selector = ChiSqSelector(numTopFeatures=1000, featuresCol=\"combine_features\",\n",
        "                         outputCol=\"selectedFeatures\", labelCol=\"label\")"
      ],
      "metadata": {
        "id": "KwdHqKouVgde"
      },
      "execution_count": 22,
      "outputs": []
    },
    {
      "cell_type": "code",
      "source": [
        "df_lower = df_lower.na.drop()"
      ],
      "metadata": {
        "id": "clG4qcfrboS6"
      },
      "execution_count": 23,
      "outputs": []
    },
    {
      "cell_type": "code",
      "source": [
        "pipeline = Pipeline(stages=[regexTokenizer, stopwordsRemover, hashingTF, idf, bucketizer_3, bucketizer_6]+ indexers+ [encoder, assembler_num_cat, assembler_combine, chi_selector])\n",
        "df_lower = df_lower.withColumn(\"points\",col(\"points\").cast(\"int\"))\n",
        "df_lower = df_lower.withColumn(\"price\",col(\"price\").cast(\"int\"))\n",
        "pipelineFit = pipeline.fit(df_lower)\n",
        "dataset = pipelineFit.transform(df_lower).select('_c0', 'tf_idf_features',  'num_cat_features', 'combine_features', \"selectedFeatures\", 'label')"
      ],
      "metadata": {
        "id": "LNgnvIzuVkDS"
      },
      "execution_count": 24,
      "outputs": []
    },
    {
      "cell_type": "code",
      "source": [
        "#dataset for regression\n",
        "pipeline = Pipeline(stages=[regexTokenizer, stopwordsRemover, hashingTF, idf, bucketizer_3, bucketizer_6]+ indexers+ [encoder, assembler_num_cat, assembler_combine, chi_selector])\n",
        "pipelineFit = pipeline.fit(df_lower)\n",
        "rdataset=pipelineFit.transform(df_lower).select('_c0', 'tf_idf_features',  'num_cat_features', 'combine_features', \"selectedFeatures\", \"points\")"
      ],
      "metadata": {
        "id": "KG9QVQlDVn4W"
      },
      "execution_count": 25,
      "outputs": []
    },
    {
      "cell_type": "code",
      "source": [
        "pipeline_w2v = Pipeline(stages=[regexTokenizer, stopwordsRemover, word2vec, bucketizer_3, bucketizer_6]+ indexers+ [encoder, assembler_num_cat, assembler_combine_w2v])\n",
        "pipelineFit_w2v = pipeline_w2v.fit(df_lower)\n",
        "dataset_w2v = pipelineFit_w2v.transform(df_lower).select('_c0', 'word2vec_features',  'num_cat_features', 'combine_features_w2v',  'label')"
      ],
      "metadata": {
        "id": "3efqtr9Oca1B"
      },
      "execution_count": 26,
      "outputs": []
    },
    {
      "cell_type": "code",
      "source": [
        "#for regression\n",
        "pipeline_w2v = Pipeline(stages=[regexTokenizer, stopwordsRemover, word2vec, bucketizer_3, bucketizer_6]+ indexers+ [encoder, assembler_num_cat, assembler_combine_w2v])\n",
        "pipelineFit_w2v = pipeline_w2v.fit(df_lower)\n",
        "rdataset_w2v = pipelineFit_w2v.transform(df_lower).select('_c0', 'word2vec_features',  'num_cat_features', 'combine_features_w2v',  'points')"
      ],
      "metadata": {
        "id": "euold_etcdrR"
      },
      "execution_count": 27,
      "outputs": []
    },
    {
      "cell_type": "code",
      "source": [
        "# pipeline_bigram = Pipeline(stages=[regexTokenizer, stopwordsRemover, ngram, word2vec_bigram, bucketizer_3, bucketizer_6]+ indexers+ [encoder, assembler_num_cat, assembler_combine_bigram])\n",
        "# pipelineFit_bigram = pipeline_bigram.fit(df_lower)\n",
        "# dataset_bigram = pipelineFit_bigram.transform(df_lower).select('_c0', 'bigram_features',  'num_cat_features', 'combine_features_bigram',  'label')"
      ],
      "metadata": {
        "id": "0pjuKLN4cgmp"
      },
      "execution_count": 28,
      "outputs": []
    },
    {
      "cell_type": "code",
      "source": [
        "# #for regression\n",
        "# pipeline_bigram = Pipeline(stages=[regexTokenizer, stopwordsRemover, ngram, word2vec_bigram, bucketizer_3, bucketizer_6]+ indexers+ [encoder, assembler_num_cat, assembler_combine_bigram])\n",
        "# pipelineFit_bigram = pipeline_bigram.fit(df_lower)\n",
        "# rdataset_bigram = pipelineFit_bigram.transform(df_lower).select('_c0', 'bigram_features',  'num_cat_features', 'combine_features_bigram',  'points')"
      ],
      "metadata": {
        "id": "ggJECQ_8cmks"
      },
      "execution_count": 29,
      "outputs": []
    },
    {
      "cell_type": "code",
      "source": [
        "dataset"
      ],
      "metadata": {
        "id": "Q2p1LiVCco9j",
        "colab": {
          "base_uri": "https://localhost:8080/"
        },
        "outputId": "604b180b-353b-4395-a64f-c3e2c26e6d62"
      },
      "execution_count": 30,
      "outputs": [
        {
          "output_type": "execute_result",
          "data": {
            "text/plain": [
              "DataFrame[_c0: string, tf_idf_features: vector, num_cat_features: vector, combine_features: vector, selectedFeatures: vector, label: double]"
            ]
          },
          "metadata": {},
          "execution_count": 30
        }
      ]
    },
    {
      "cell_type": "code",
      "source": [
        "dataset_w2v.show()"
      ],
      "metadata": {
        "id": "NfCOYHCVctUm",
        "colab": {
          "base_uri": "https://localhost:8080/"
        },
        "outputId": "d482da7c-590a-4e7c-932b-a51e69d0cd57"
      },
      "execution_count": 31,
      "outputs": [
        {
          "output_type": "stream",
          "name": "stdout",
          "text": [
            "+---+--------------------+--------------------+--------------------+-----+\n",
            "|_c0|   word2vec_features|    num_cat_features|combine_features_w2v|label|\n",
            "+---+--------------------+--------------------+--------------------+-----+\n",
            "|  1|[-0.0203489334893...|(715,[4,42,71,714...|(1015,[4,42,71,71...|  1.0|\n",
            "|  2|[0.09476183300527...|(715,[0,46,79,714...|(1015,[0,46,79,71...|  1.0|\n",
            "|  3|[-0.0066880109635...|(715,[0,57,66,714...|(1015,[0,57,66,71...|  1.0|\n",
            "|  4|[0.04785747185349...|(715,[0,46,61,714...|(1015,[0,46,61,71...|  1.0|\n",
            "|  5|[0.09469858355199...|(715,[3,43,360,71...|(1015,[3,43,360,7...|  1.0|\n",
            "|  6|[0.05348750470309...|(715,[2,44,222,71...|(1015,[2,44,222,7...|  1.0|\n",
            "|  7|[0.06082502434340...|(715,[1,42,86,714...|(1015,[1,42,86,71...|  1.0|\n",
            "|  8|[0.02169393928831...|(715,[8,50,86,714...|(1015,[8,50,86,71...|  1.0|\n",
            "|  9|[0.03610841813497...|(715,[1,42,79,714...|(1015,[1,42,79,71...|  1.0|\n",
            "| 10|[0.02402406614739...|(715,[0,45,64,714...|(1015,[0,45,64,71...|  1.0|\n",
            "| 11|[0.05984527996689...|(715,[1,42,86,714...|(1015,[1,42,86,71...|  1.0|\n",
            "| 12|[0.04603504419792...|(715,[0,45,64,714...|(1015,[0,45,64,71...|  1.0|\n",
            "| 14|[0.03489752091947...|(715,[0,47,62,714...|(1015,[0,47,62,71...|  1.0|\n",
            "| 15|[0.01734426449984...|(715,[8,50,66,714...|(1015,[8,50,66,71...|  1.0|\n",
            "| 16|[0.08463230230394...|(715,[6,43,70,714...|(1015,[6,43,70,71...|  1.0|\n",
            "| 17|[0.07239936528451...|(715,[6,43,70,714...|(1015,[6,43,70,71...|  1.0|\n",
            "| 18|[0.07861822005361...|(715,[3,43,90,714...|(1015,[3,43,90,71...|  1.0|\n",
            "| 19|[0.05282716205692...|(715,[0,57,118,71...|(1015,[0,57,118,7...|  1.0|\n",
            "| 20|[0.05800180293619...|(715,[0,57,63,714...|(1015,[0,57,63,71...|  1.0|\n",
            "| 21|[0.08429338831316...|(715,[0,46,61,714...|(1015,[0,46,61,71...|  1.0|\n",
            "+---+--------------------+--------------------+--------------------+-----+\n",
            "only showing top 20 rows\n",
            "\n"
          ]
        }
      ]
    },
    {
      "cell_type": "code",
      "source": [
        "# rdataset_bigram.show()"
      ],
      "metadata": {
        "id": "1uoJsDn7cvwZ"
      },
      "execution_count": 32,
      "outputs": []
    },
    {
      "cell_type": "markdown",
      "source": [
        "**Model exploration**"
      ],
      "metadata": {
        "id": "U4y0t47YdEQw"
      }
    },
    {
      "cell_type": "code",
      "source": [
        "(trainingData, testData) = dataset.randomSplit([0.8, 0.2], seed = 100)\n",
        "(rtrainingData, rtestData) = rdataset.randomSplit([0.8, 0.2], seed = 100) #for regression\n",
        "print(\"Training Dataset Count: \" + str(trainingData.count()))\n",
        "print(\"Test Dataset Count: \" + str(testData.count()))"
      ],
      "metadata": {
        "id": "3uyM7ZmtczCE",
        "colab": {
          "base_uri": "https://localhost:8080/"
        },
        "outputId": "db286656-bf00-4365-82c4-203c903960c8"
      },
      "execution_count": 33,
      "outputs": [
        {
          "output_type": "stream",
          "name": "stdout",
          "text": [
            "Training Dataset Count: 77108\n",
            "Test Dataset Count: 19296\n"
          ]
        }
      ]
    },
    {
      "cell_type": "code",
      "source": [
        "# Training and testing splitting for word2vec\n",
        "(trainingData_w2v, testData_w2v) = dataset_w2v.randomSplit([0.8, 0.2], seed = 100)\n",
        "(rtrainingData_w2v, rtestData_w2v) = rdataset_w2v.randomSplit([0.8, 0.2], seed = 100) #for regression\n",
        "print(\"Training Dataset Count: \" + str(trainingData_w2v.count()))\n",
        "print(\"Test Dataset Count: \" + str(testData_w2v.count()))"
      ],
      "metadata": {
        "id": "cosYDmkRdKZe",
        "colab": {
          "base_uri": "https://localhost:8080/"
        },
        "outputId": "acaf6008-979a-49c0-eee0-d23f4b317931"
      },
      "execution_count": 34,
      "outputs": [
        {
          "output_type": "stream",
          "name": "stdout",
          "text": [
            "Training Dataset Count: 77108\n",
            "Test Dataset Count: 19296\n"
          ]
        }
      ]
    },
    {
      "cell_type": "code",
      "source": [
        "# # Training and testing splitting for bigram\n",
        "# (trainingData_bigram, testData_bigram) = dataset_bigram.randomSplit([0.8, 0.2], seed = 100)\n",
        "# (rtrainingData_bigram, rtestData_bigram) = rdataset_bigram.randomSplit([0.8, 0.2], seed = 100)#for regression\n",
        "# print(\"Training Dataset Count: \" + str(trainingData_bigram.count()))\n",
        "# print(\"Test Dataset Count: \" + str(testData_bigram.count()))"
      ],
      "metadata": {
        "id": "3x25k7rXdOEt"
      },
      "execution_count": 35,
      "outputs": []
    },
    {
      "cell_type": "code",
      "source": [
        "evaluator_f1 = MulticlassClassificationEvaluator(predictionCol=\"prediction\", metricName='f1')\n",
        "evaluator_acc = MulticlassClassificationEvaluator(predictionCol=\"prediction\", metricName='accuracy')\n",
        "evaluator_recall = MulticlassClassificationEvaluator(predictionCol=\"prediction\", metricName='weightedRecall')\n",
        "evaluator_precision = MulticlassClassificationEvaluator(predictionCol=\"prediction\", metricName='weightedPrecision')"
      ],
      "metadata": {
        "id": "YrPoQoKIdO2-"
      },
      "execution_count": 36,
      "outputs": []
    },
    {
      "cell_type": "code",
      "source": [
        "lr_tf_idf = LogisticRegression(featuresCol='tf_idf_features')\n",
        "lr_tf_idf_Model = lr_tf_idf.fit(trainingData)\n",
        "lr_tf_idf_predictions = lr_tf_idf_Model.transform(testData)\n",
        "\n",
        "lr_num_cat = LogisticRegression(featuresCol='num_cat_features')\n",
        "lr_num_cat_Model = lr_num_cat.fit(trainingData)\n",
        "lr_num_cat_predictions = lr_num_cat_Model.transform(testData)\n",
        "\n",
        "lr_combine = LogisticRegression(featuresCol='combine_features')\n",
        "lr_combine_Model = lr_combine.fit(trainingData)\n",
        "lr_combine_predictions = lr_combine_Model.transform(testData)\n",
        "\n",
        "lr_selected = LogisticRegression(featuresCol='selectedFeatures')\n",
        "lr_selected_Model = lr_selected.fit(trainingData)\n",
        "lr_selected_predictions = lr_selected_Model.transform(testData)\n"
      ],
      "metadata": {
        "id": "5q1_nDaOdQTU"
      },
      "execution_count": 37,
      "outputs": []
    },
    {
      "cell_type": "code",
      "source": [
        "# For w2v model\n",
        "lr_w2v = LogisticRegression(featuresCol='word2vec_features')\n",
        "lr_Model_w2v = lr_w2v.fit(trainingData_w2v)\n",
        "lr_predictions_w2v = lr_Model_w2v.transform(testData_w2v)\n",
        "\n",
        "lr_num_cat = LogisticRegression(featuresCol='num_cat_features')\n",
        "lr_num_cat_Model = lr_num_cat.fit(trainingData)\n",
        "lr_num_cat_predictions = lr_num_cat_Model.transform(testData)\n",
        "\n",
        "lr_combine_w2v = LogisticRegression(featuresCol='combine_features_w2v')\n",
        "lr_combine_Model_w2v = lr_combine_w2v.fit(trainingData_w2v)\n",
        "lr_combine_predictions_w2v = lr_combine_Model_w2v.transform(testData_w2v)\n",
        "\n",
        "\n",
        "# # For bigram w2v\n",
        "# lr_bigram = LogisticRegression(featuresCol='bigram_features')\n",
        "# lr_Model_bigram = lr_bigram.fit(trainingData_bigram)\n",
        "# lr_predictions_bigram = lr_Model_bigram.transform(testData_bigram)\n",
        "\n",
        "# lr_num_cat = LogisticRegression(featuresCol='num_cat_features')\n",
        "# lr_num_cat_Model = lr_num_cat.fit(trainingData)\n",
        "# lr_num_cat_predictions = lr_num_cat_Model.transform(testData)\n",
        "\n",
        "# lr_combine_bigram = LogisticRegression(featuresCol='combine_features_bigram')\n",
        "# lr_combine_Model_bigram = lr_combine_bigram.fit(trainingData_bigram)\n",
        "# lr_combine_predictions_bigram = lr_combine_Model_bigram.transform(testData_bigram)\n"
      ],
      "metadata": {
        "id": "9fO2c3OAdTN_"
      },
      "execution_count": 38,
      "outputs": []
    },
    {
      "cell_type": "code",
      "source": [
        "def print_eval_tf_idf(metrics,num_cat,combine, selected,name_of_feature):\n",
        "  print(name_of_feature)\n",
        "  print('f1: ' + str(evaluator_f1.evaluate(metrics)))\n",
        "  print('acc: ' + str(evaluator_acc.evaluate(metrics)))\n",
        "  print('recall: ' + str(evaluator_recall.evaluate(metrics)))\n",
        "  print('precision' + str(evaluator_precision.evaluate(metrics)))\n",
        "  print('num_cat_features')\n",
        "  print('f1: ' + str(evaluator_f1.evaluate(num_cat)))\n",
        "  print('acc: ' + str(evaluator_acc.evaluate(num_cat)))\n",
        "  print('recall: ' + str(evaluator_recall.evaluate(num_cat)))\n",
        "  print('precision: ' + str(evaluator_precision.evaluate(num_cat)))\n",
        "  print('combine_features')\n",
        "  print('f1: ' + str(evaluator_f1.evaluate(combine)))\n",
        "  print('acc: ' + str(evaluator_acc.evaluate(combine)))\n",
        "  print('recall: ' + str(evaluator_recall.evaluate(combine)))\n",
        "  print('precision: ' + str(evaluator_precision.evaluate(combine)))\n",
        "  print('selectedFeatures')\n",
        "  print('f1: ' + str(evaluator_f1.evaluate(selected)))\n",
        "  print('acc: ' + str(evaluator_acc.evaluate(selected)))\n",
        "  print('recall: ' + str(evaluator_recall.evaluate(selected)))\n",
        "  print('precision: ' + str(evaluator_precision.evaluate(selected)))"
      ],
      "metadata": {
        "id": "ucj-JxIbdUw5"
      },
      "execution_count": 39,
      "outputs": []
    },
    {
      "cell_type": "code",
      "source": [
        "def print_eval_w2v(metrics,combine, name_of_feature):\n",
        "  print(name_of_feature)\n",
        "  print('f1: ' + str(evaluator_f1.evaluate(metrics)))\n",
        "  print('acc: ' + str(evaluator_acc.evaluate(metrics)))\n",
        "  print('recall: ' + str(evaluator_recall.evaluate(metrics)))\n",
        "  print('precision' + str(evaluator_precision.evaluate(metrics)))\n",
        "  \n",
        "  print('combine_features')\n",
        "  print('f1: ' + str(evaluator_f1.evaluate(combine)))\n",
        "  print('acc: ' + str(evaluator_acc.evaluate(combine)))\n",
        "  print('recall: ' + str(evaluator_recall.evaluate(combine)))\n",
        "  print('precision: ' + str(evaluator_precision.evaluate(combine)))"
      ],
      "metadata": {
        "id": "u9djUgucdWoN"
      },
      "execution_count": 40,
      "outputs": []
    },
    {
      "cell_type": "code",
      "source": [
        "print_eval_tf_idf(lr_tf_idf_predictions, lr_num_cat_predictions, lr_combine_predictions, lr_selected_predictions,'tf_idf_features')"
      ],
      "metadata": {
        "id": "9QV9Y6sSdYWU",
        "colab": {
          "base_uri": "https://localhost:8080/"
        },
        "outputId": "d31edb4a-e25f-4e31-dbcc-0d6fb474b858"
      },
      "execution_count": 41,
      "outputs": [
        {
          "output_type": "stream",
          "name": "stdout",
          "text": [
            "tf_idf_features\n",
            "f1: 0.7974992445369351\n",
            "acc: 0.8007359038142621\n",
            "recall: 0.800735903814262\n",
            "precision0.7958951543328943\n",
            "num_cat_features\n",
            "f1: 0.7283781073116443\n",
            "acc: 0.7585509950248757\n",
            "recall: 0.7585509950248757\n",
            "precision: 0.7429261662655067\n",
            "combine_features\n",
            "f1: 0.8212636124626823\n",
            "acc: 0.8231239635157546\n",
            "recall: 0.8231239635157546\n",
            "precision: 0.820221491307818\n",
            "selectedFeatures\n",
            "f1: 0.8244558915800562\n",
            "acc: 0.8303793532338308\n",
            "recall: 0.8303793532338308\n",
            "precision: 0.8240713723420059\n"
          ]
        }
      ]
    },
    {
      "cell_type": "code",
      "source": [
        "print_eval_w2v(lr_predictions_w2v, lr_combine_predictions_w2v,'word2vec_features')"
      ],
      "metadata": {
        "id": "tN1BpSyxdaAj",
        "colab": {
          "base_uri": "https://localhost:8080/"
        },
        "outputId": "fbf75042-4583-4648-d922-01bcca2d481b"
      },
      "execution_count": 42,
      "outputs": [
        {
          "output_type": "stream",
          "name": "stdout",
          "text": [
            "word2vec_features\n",
            "f1: 0.7717003398004918\n",
            "acc: 0.7921330845771144\n",
            "recall: 0.7921330845771144\n",
            "precision0.7739014741462955\n",
            "combine_features\n",
            "f1: 0.8139768381304119\n",
            "acc: 0.8235903814262023\n",
            "recall: 0.8235903814262022\n",
            "precision: 0.8160845639774632\n"
          ]
        }
      ]
    },
    {
      "cell_type": "code",
      "source": [
        "# print_eval_w2v(lr_predictions_bigram, lr_combine_predictions_bigram,'bigram_features')"
      ],
      "metadata": {
        "id": "vEO5k-39dal6"
      },
      "execution_count": 43,
      "outputs": []
    },
    {
      "cell_type": "code",
      "source": [
        "from pyspark.ml.regression import LinearRegression\n",
        "\n",
        "#TF-idf\n",
        "lir_tfidf= LinearRegression(maxIter=5,featuresCol='tf_idf_features',labelCol='points')\n",
        "lir_tfidf_model= lir_tfidf.fit(rtrainingData)\n",
        "lir_tfidf_predictions = lir_tfidf_model.transform(rtestData)\n",
        "\n",
        "lir_num_cat= LinearRegression(maxIter=5,featuresCol='num_cat_features',labelCol='points')\n",
        "lir_num_cat_model= lir_num_cat.fit(rtrainingData)\n",
        "lir_num_cat_predictions = lir_num_cat_model.transform(rtestData)\n",
        "\n",
        "lir_com= LinearRegression(maxIter=5,featuresCol='combine_features',labelCol='points')\n",
        "lir_com_model= lir_com.fit(rtrainingData)\n",
        "lir_com_predictions = lir_com_model.transform(rtestData)\n",
        "\n",
        "lir_selected= LinearRegression(maxIter=5,featuresCol='selectedFeatures',labelCol='points')\n",
        "lir_selected_model= lir_selected.fit(rtrainingData)\n",
        "lir_selected_predictions = lir_selected_model.transform(rtestData)\n",
        "\n",
        "# For w2v model\n",
        "lir_w2v= LinearRegression(maxIter=5,featuresCol='word2vec_features',labelCol='points')\n",
        "lir_w2v_model= lir_w2v.fit(rtrainingData_w2v)\n",
        "lir_w2v_predictions = lir_w2v_model.transform(rtestData_w2v)\n",
        "\n",
        "lir_w2v_com= LinearRegression(maxIter=5,featuresCol='combine_features_w2v',labelCol='points')\n",
        "lir_w2v_com_model= lir_w2v_com.fit(rtrainingData_w2v)\n",
        "lir_w2v_com_predictions = lir_w2v_com_model.transform(rtestData_w2v)\n",
        "\n",
        "# For bigram \n",
        "# lir_bg= LinearRegression(maxIter=5,featuresCol='bigram_features',labelCol='points')\n",
        "# lir_bg_model= lir_bg.fit(rtrainingData_bigram)\n",
        "# lir_bg_predictions = lir_bg_model.transform(rtestData_bigram)\n",
        "\n",
        "# lir_bg_com= LinearRegression(maxIter=5,featuresCol='combine_features_bigram',labelCol='points')\n",
        "# lir_bg_com_model= lir_bg_com.fit(rtrainingData_bigram)\n",
        "# lir_bg_com_predictions = lir_bg_com_model.transform(rtestData_bigram)"
      ],
      "metadata": {
        "id": "pKtFezyP1zk7"
      },
      "execution_count": 44,
      "outputs": []
    },
    {
      "cell_type": "code",
      "source": [
        "from pyspark.ml.evaluation import RegressionEvaluator\n",
        "evaluator_r2 = RegressionEvaluator(predictionCol=\"prediction\",labelCol='points',metricName=\"r2\")\n",
        "evaluator_mse = RegressionEvaluator(predictionCol=\"prediction\",labelCol='points',metricName=\"mse\")\n",
        "\n",
        "\n",
        "print('Linear regression:')\n",
        "print('using Tf-idf')\n",
        "print('  using text only')\n",
        "print('   R2: ' + str(evaluator_r2.evaluate(lir_tfidf_predictions)))\n",
        "print('   MSE: ' + str(evaluator_mse.evaluate(lir_tfidf_predictions)))\n",
        "\n",
        "print('  using categorical features')\n",
        "print('   R2: ' + str(evaluator_r2.evaluate(lir_num_cat_predictions)))\n",
        "print('   MSE: ' + str(evaluator_mse.evaluate(lir_num_cat_predictions)))\n",
        "\n",
        "print('  combining Cat and Tfidf')\n",
        "print('   R2: ' + str(evaluator_r2.evaluate(lir_com_predictions)))\n",
        "print('   MSE: ' + str(evaluator_mse.evaluate(lir_com_predictions)))\n",
        "\n",
        "print('  selecting features')\n",
        "print('   R2: ' + str(evaluator_r2.evaluate(lir_selected_predictions)))\n",
        "print('   MSE: ' + str(evaluator_mse.evaluate(lir_selected_predictions)))\n",
        "\n",
        "print('using Word to Vec')\n",
        "print('  using text only')\n",
        "print('   R2: ' + str(evaluator_r2.evaluate(lir_w2v_predictions)))\n",
        "print('   MSE: ' + str(evaluator_mse.evaluate(lir_w2v_predictions)))\n",
        "print('  using text & categorical')\n",
        "print('   R2: ' + str(evaluator_r2.evaluate(lir_w2v_com_predictions)))\n",
        "print('   MSE: ' + str(evaluator_mse.evaluate(lir_w2v_com_predictions)))\n",
        "\n",
        "# print('using bigram')\n",
        "# print('  using text only')\n",
        "# print('   R2: ' + str(evaluator_r2.evaluate(lir_bg_predictions)))\n",
        "# print('   MSE: ' + str(evaluator_mse.evaluate(lir_bg_predictions)))\n",
        "# print('  using text & categorical')\n",
        "# print('   R2: ' + str(evaluator_r2.evaluate(lir_bg_com_predictions)))\n",
        "# print('   MSE: ' + str(evaluator_mse.evaluate(lir_bg_com_predictions)))"
      ],
      "metadata": {
        "colab": {
          "base_uri": "https://localhost:8080/"
        },
        "id": "bfXp7RKT11_8",
        "outputId": "bbe0a329-3523-457a-b8f7-f50dd9b5a36a"
      },
      "execution_count": 45,
      "outputs": [
        {
          "output_type": "stream",
          "name": "stdout",
          "text": [
            "Linear regression:\n",
            "using Tf-idf\n",
            "  using text only\n",
            "   R2: 0.6347089320749673\n",
            "   MSE: 3.1793604416886003\n",
            "  using categorical features\n",
            "   R2: 0.2648441196765777\n",
            "   MSE: 6.398529089834541\n",
            "  combining Cat and Tfidf\n",
            "   R2: 0.6792317153084697\n",
            "   MSE: 2.791850348516749\n",
            "  selecting features\n",
            "   R2: 0.6631829696258731\n",
            "   MSE: 2.9315327871041603\n",
            "using Word to Vec\n",
            "  using text only\n",
            "   R2: 0.5539752946867337\n",
            "   MSE: 3.8820366239555564\n",
            "  using text & categorical\n",
            "   R2: 0.553963984111975\n",
            "   MSE: 3.882135067079733\n"
          ]
        }
      ]
    },
    {
      "cell_type": "code",
      "source": [
        "lir_com_predictions.select(\"points\",\"prediction\").show()"
      ],
      "metadata": {
        "colab": {
          "base_uri": "https://localhost:8080/"
        },
        "id": "tMyCpDbV4Ais",
        "outputId": "20de13bc-74f9-4a90-dbba-4ca89f3472c5"
      },
      "execution_count": 46,
      "outputs": [
        {
          "output_type": "stream",
          "name": "stdout",
          "text": [
            "+------+-----------------+\n",
            "|points|       prediction|\n",
            "+------+-----------------+\n",
            "|    88|87.10640672336926|\n",
            "|    91|89.59796949173366|\n",
            "|    91|88.19343897689214|\n",
            "|    91| 90.5703323237937|\n",
            "|    89|86.81542421523608|\n",
            "|    89|88.37382948604044|\n",
            "|    89|88.26849715976114|\n",
            "|    89|87.49705631542761|\n",
            "|    89|86.99790670088962|\n",
            "|    88|89.06331634360116|\n",
            "|    89|90.29457014757975|\n",
            "|    89|88.16111324469925|\n",
            "|    89|88.38075224785123|\n",
            "|    88|90.90109594291435|\n",
            "|    88| 88.1454424923971|\n",
            "|    88|  90.368226392022|\n",
            "|    88| 90.6195321591363|\n",
            "|    88|87.45976226439613|\n",
            "|    88|89.06470754156895|\n",
            "|    86|85.23797117038593|\n",
            "+------+-----------------+\n",
            "only showing top 20 rows\n",
            "\n"
          ]
        }
      ]
    }
  ]
}